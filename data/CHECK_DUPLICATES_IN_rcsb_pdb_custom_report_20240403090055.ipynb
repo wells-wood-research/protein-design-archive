{
 "cells": [
  {
   "cell_type": "code",
   "execution_count": 2,
   "id": "28c0ce61-7b8f-4454-aad4-e61a8aacc9ed",
   "metadata": {},
   "outputs": [],
   "source": [
    "import pandas as pd"
   ]
  },
  {
   "cell_type": "code",
   "execution_count": 32,
   "id": "cc7003a9-b704-4be9-8d16-e179ab789344",
   "metadata": {},
   "outputs": [],
   "source": [
    "data = pd.read_csv('rcsb_pdb_custom_report_20240403090055.csv', delimiter=',', header=1)"
   ]
  },
  {
   "cell_type": "code",
   "execution_count": 33,
   "id": "27e8a207-5745-4820-846d-08cb31960678",
   "metadata": {},
   "outputs": [
    {
     "data": {
      "text/html": [
       "<div>\n",
       "<style scoped>\n",
       "    .dataframe tbody tr th:only-of-type {\n",
       "        vertical-align: middle;\n",
       "    }\n",
       "\n",
       "    .dataframe tbody tr th {\n",
       "        vertical-align: top;\n",
       "    }\n",
       "\n",
       "    .dataframe thead th {\n",
       "        text-align: right;\n",
       "    }\n",
       "</style>\n",
       "<table border=\"1\" class=\"dataframe\">\n",
       "  <thead>\n",
       "    <tr style=\"text-align: right;\">\n",
       "      <th></th>\n",
       "      <th>Entry ID</th>\n",
       "      <th>PDB ID</th>\n",
       "      <th>Unnamed: 2</th>\n",
       "    </tr>\n",
       "  </thead>\n",
       "  <tbody>\n",
       "    <tr>\n",
       "      <th>0</th>\n",
       "      <td>1BYZ</td>\n",
       "      <td>1BYZ</td>\n",
       "      <td>NaN</td>\n",
       "    </tr>\n",
       "    <tr>\n",
       "      <th>1</th>\n",
       "      <td>1D7T</td>\n",
       "      <td>1D7T</td>\n",
       "      <td>NaN</td>\n",
       "    </tr>\n",
       "    <tr>\n",
       "      <th>2</th>\n",
       "      <td>1E0M</td>\n",
       "      <td>1E0M</td>\n",
       "      <td>NaN</td>\n",
       "    </tr>\n",
       "    <tr>\n",
       "      <th>3</th>\n",
       "      <td>1HQJ</td>\n",
       "      <td>1HQJ</td>\n",
       "      <td>NaN</td>\n",
       "    </tr>\n",
       "    <tr>\n",
       "      <th>4</th>\n",
       "      <td>1IC9</td>\n",
       "      <td>1IC9</td>\n",
       "      <td>NaN</td>\n",
       "    </tr>\n",
       "    <tr>\n",
       "      <th>...</th>\n",
       "      <td>...</td>\n",
       "      <td>...</td>\n",
       "      <td>...</td>\n",
       "    </tr>\n",
       "    <tr>\n",
       "      <th>1008</th>\n",
       "      <td>3V1B</td>\n",
       "      <td>3V1B</td>\n",
       "      <td>NaN</td>\n",
       "    </tr>\n",
       "    <tr>\n",
       "      <th>1009</th>\n",
       "      <td>3V1D</td>\n",
       "      <td>3V1D</td>\n",
       "      <td>NaN</td>\n",
       "    </tr>\n",
       "    <tr>\n",
       "      <th>1010</th>\n",
       "      <td>3V1E</td>\n",
       "      <td>3V1E</td>\n",
       "      <td>NaN</td>\n",
       "    </tr>\n",
       "    <tr>\n",
       "      <th>1011</th>\n",
       "      <td>3V1F</td>\n",
       "      <td>3V1F</td>\n",
       "      <td>NaN</td>\n",
       "    </tr>\n",
       "    <tr>\n",
       "      <th>1012</th>\n",
       "      <td>4JW3</td>\n",
       "      <td>4JW3</td>\n",
       "      <td>NaN</td>\n",
       "    </tr>\n",
       "  </tbody>\n",
       "</table>\n",
       "<p>1013 rows × 3 columns</p>\n",
       "</div>"
      ],
      "text/plain": [
       "     Entry ID PDB ID  Unnamed: 2\n",
       "0        1BYZ   1BYZ         NaN\n",
       "1        1D7T   1D7T         NaN\n",
       "2        1E0M   1E0M         NaN\n",
       "3        1HQJ   1HQJ         NaN\n",
       "4        1IC9   1IC9         NaN\n",
       "...       ...    ...         ...\n",
       "1008     3V1B   3V1B         NaN\n",
       "1009     3V1D   3V1D         NaN\n",
       "1010     3V1E   3V1E         NaN\n",
       "1011     3V1F   3V1F         NaN\n",
       "1012     4JW3   4JW3         NaN\n",
       "\n",
       "[1013 rows x 3 columns]"
      ]
     },
     "execution_count": 33,
     "metadata": {},
     "output_type": "execute_result"
    }
   ],
   "source": [
    "data"
   ]
  },
  {
   "cell_type": "code",
   "execution_count": 5,
   "id": "95d9ad46-7133-4e95-ace3-9ba3bf1dd3e0",
   "metadata": {},
   "outputs": [
    {
     "name": "stdout",
     "output_type": "stream",
     "text": [
      "Yes\n"
     ]
    }
   ],
   "source": [
    "if data['Unnamed: 2'].isna().all():\n",
    "    data.drop('Unnamed: 2', axis=1, inplace=True)\n",
    "    print(\"Yes\")"
   ]
  },
  {
   "cell_type": "code",
   "execution_count": 6,
   "id": "4612d31a-c507-4f83-af3e-f482fde13e11",
   "metadata": {},
   "outputs": [
    {
     "data": {
      "text/html": [
       "<div>\n",
       "<style scoped>\n",
       "    .dataframe tbody tr th:only-of-type {\n",
       "        vertical-align: middle;\n",
       "    }\n",
       "\n",
       "    .dataframe tbody tr th {\n",
       "        vertical-align: top;\n",
       "    }\n",
       "\n",
       "    .dataframe thead th {\n",
       "        text-align: right;\n",
       "    }\n",
       "</style>\n",
       "<table border=\"1\" class=\"dataframe\">\n",
       "  <thead>\n",
       "    <tr style=\"text-align: right;\">\n",
       "      <th></th>\n",
       "      <th>Identifier</th>\n",
       "      <th>StructureData</th>\n",
       "    </tr>\n",
       "  </thead>\n",
       "  <tbody>\n",
       "    <tr>\n",
       "      <th>0</th>\n",
       "      <td>Entry ID</td>\n",
       "      <td>PDB ID</td>\n",
       "    </tr>\n",
       "    <tr>\n",
       "      <th>1</th>\n",
       "      <td>1BYZ</td>\n",
       "      <td>1BYZ</td>\n",
       "    </tr>\n",
       "    <tr>\n",
       "      <th>2</th>\n",
       "      <td>1D7T</td>\n",
       "      <td>1D7T</td>\n",
       "    </tr>\n",
       "    <tr>\n",
       "      <th>3</th>\n",
       "      <td>1E0M</td>\n",
       "      <td>1E0M</td>\n",
       "    </tr>\n",
       "    <tr>\n",
       "      <th>4</th>\n",
       "      <td>1HQJ</td>\n",
       "      <td>1HQJ</td>\n",
       "    </tr>\n",
       "    <tr>\n",
       "      <th>...</th>\n",
       "      <td>...</td>\n",
       "      <td>...</td>\n",
       "    </tr>\n",
       "    <tr>\n",
       "      <th>1009</th>\n",
       "      <td>3V1B</td>\n",
       "      <td>3V1B</td>\n",
       "    </tr>\n",
       "    <tr>\n",
       "      <th>1010</th>\n",
       "      <td>3V1D</td>\n",
       "      <td>3V1D</td>\n",
       "    </tr>\n",
       "    <tr>\n",
       "      <th>1011</th>\n",
       "      <td>3V1E</td>\n",
       "      <td>3V1E</td>\n",
       "    </tr>\n",
       "    <tr>\n",
       "      <th>1012</th>\n",
       "      <td>3V1F</td>\n",
       "      <td>3V1F</td>\n",
       "    </tr>\n",
       "    <tr>\n",
       "      <th>1013</th>\n",
       "      <td>4JW3</td>\n",
       "      <td>4JW3</td>\n",
       "    </tr>\n",
       "  </tbody>\n",
       "</table>\n",
       "<p>1014 rows × 2 columns</p>\n",
       "</div>"
      ],
      "text/plain": [
       "     Identifier StructureData\n",
       "0      Entry ID        PDB ID\n",
       "1          1BYZ          1BYZ\n",
       "2          1D7T          1D7T\n",
       "3          1E0M          1E0M\n",
       "4          1HQJ          1HQJ\n",
       "...         ...           ...\n",
       "1009       3V1B          3V1B\n",
       "1010       3V1D          3V1D\n",
       "1011       3V1E          3V1E\n",
       "1012       3V1F          3V1F\n",
       "1013       4JW3          4JW3\n",
       "\n",
       "[1014 rows x 2 columns]"
      ]
     },
     "execution_count": 6,
     "metadata": {},
     "output_type": "execute_result"
    }
   ],
   "source": [
    "data"
   ]
  },
  {
   "cell_type": "code",
   "execution_count": 7,
   "id": "ffb1abc7-d8f9-4121-937e-4fde68dcb440",
   "metadata": {},
   "outputs": [
    {
     "data": {
      "text/plain": [
       "False"
      ]
     },
     "execution_count": 7,
     "metadata": {},
     "output_type": "execute_result"
    }
   ],
   "source": [
    "# Check if any Identifier value differs from StructureData value for one entry\n",
    "data['Identifier'].equals(data['StructureData'])"
   ]
  },
  {
   "cell_type": "code",
   "execution_count": 8,
   "id": "8a8374ac-a1d8-439d-abeb-96cdfd515c94",
   "metadata": {},
   "outputs": [],
   "source": [
    "mask = (data['Identifier'] != data['StructureData'])\n",
    "rows_with_different_values = data[mask]"
   ]
  },
  {
   "cell_type": "code",
   "execution_count": 21,
   "id": "46eb2258-7a8e-434d-b98f-8b080de316dc",
   "metadata": {},
   "outputs": [
    {
     "data": {
      "text/html": [
       "<div>\n",
       "<style scoped>\n",
       "    .dataframe tbody tr th:only-of-type {\n",
       "        vertical-align: middle;\n",
       "    }\n",
       "\n",
       "    .dataframe tbody tr th {\n",
       "        vertical-align: top;\n",
       "    }\n",
       "\n",
       "    .dataframe thead th {\n",
       "        text-align: right;\n",
       "    }\n",
       "</style>\n",
       "<table border=\"1\" class=\"dataframe\">\n",
       "  <thead>\n",
       "    <tr style=\"text-align: right;\">\n",
       "      <th></th>\n",
       "      <th>Identifier</th>\n",
       "      <th>StructureData</th>\n",
       "    </tr>\n",
       "  </thead>\n",
       "  <tbody>\n",
       "    <tr>\n",
       "      <th>0</th>\n",
       "      <td>Entry ID</td>\n",
       "      <td>PDB ID</td>\n",
       "    </tr>\n",
       "  </tbody>\n",
       "</table>\n",
       "</div>"
      ],
      "text/plain": [
       "  Identifier StructureData\n",
       "0   Entry ID        PDB ID"
      ]
     },
     "execution_count": 21,
     "metadata": {},
     "output_type": "execute_result"
    }
   ],
   "source": [
    "# The only row with different values for Identifies and StructureData is the header - so no issue\n",
    "rows_with_different_values"
   ]
  },
  {
   "cell_type": "code",
   "execution_count": 22,
   "id": "fa3f7d29-6e89-4a1e-ab6f-e23cb27e62bd",
   "metadata": {},
   "outputs": [],
   "source": [
    "# Remove duplicates\n",
    "data_no_dup = data.drop_duplicates(ignore_index=True)"
   ]
  },
  {
   "cell_type": "code",
   "execution_count": 23,
   "id": "9bf9b0f2-61ea-4d39-8d67-2b5836b1747b",
   "metadata": {},
   "outputs": [
    {
     "data": {
      "text/html": [
       "<div>\n",
       "<style scoped>\n",
       "    .dataframe tbody tr th:only-of-type {\n",
       "        vertical-align: middle;\n",
       "    }\n",
       "\n",
       "    .dataframe tbody tr th {\n",
       "        vertical-align: top;\n",
       "    }\n",
       "\n",
       "    .dataframe thead th {\n",
       "        text-align: right;\n",
       "    }\n",
       "</style>\n",
       "<table border=\"1\" class=\"dataframe\">\n",
       "  <thead>\n",
       "    <tr style=\"text-align: right;\">\n",
       "      <th></th>\n",
       "      <th>Identifier</th>\n",
       "      <th>StructureData</th>\n",
       "    </tr>\n",
       "  </thead>\n",
       "  <tbody>\n",
       "    <tr>\n",
       "      <th>0</th>\n",
       "      <td>Entry ID</td>\n",
       "      <td>PDB ID</td>\n",
       "    </tr>\n",
       "    <tr>\n",
       "      <th>1</th>\n",
       "      <td>1BYZ</td>\n",
       "      <td>1BYZ</td>\n",
       "    </tr>\n",
       "    <tr>\n",
       "      <th>2</th>\n",
       "      <td>1D7T</td>\n",
       "      <td>1D7T</td>\n",
       "    </tr>\n",
       "    <tr>\n",
       "      <th>3</th>\n",
       "      <td>1E0M</td>\n",
       "      <td>1E0M</td>\n",
       "    </tr>\n",
       "    <tr>\n",
       "      <th>4</th>\n",
       "      <td>1HQJ</td>\n",
       "      <td>1HQJ</td>\n",
       "    </tr>\n",
       "    <tr>\n",
       "      <th>...</th>\n",
       "      <td>...</td>\n",
       "      <td>...</td>\n",
       "    </tr>\n",
       "    <tr>\n",
       "      <th>1009</th>\n",
       "      <td>3V1B</td>\n",
       "      <td>3V1B</td>\n",
       "    </tr>\n",
       "    <tr>\n",
       "      <th>1010</th>\n",
       "      <td>3V1D</td>\n",
       "      <td>3V1D</td>\n",
       "    </tr>\n",
       "    <tr>\n",
       "      <th>1011</th>\n",
       "      <td>3V1E</td>\n",
       "      <td>3V1E</td>\n",
       "    </tr>\n",
       "    <tr>\n",
       "      <th>1012</th>\n",
       "      <td>3V1F</td>\n",
       "      <td>3V1F</td>\n",
       "    </tr>\n",
       "    <tr>\n",
       "      <th>1013</th>\n",
       "      <td>4JW3</td>\n",
       "      <td>4JW3</td>\n",
       "    </tr>\n",
       "  </tbody>\n",
       "</table>\n",
       "<p>1014 rows × 2 columns</p>\n",
       "</div>"
      ],
      "text/plain": [
       "     Identifier StructureData\n",
       "0      Entry ID        PDB ID\n",
       "1          1BYZ          1BYZ\n",
       "2          1D7T          1D7T\n",
       "3          1E0M          1E0M\n",
       "4          1HQJ          1HQJ\n",
       "...         ...           ...\n",
       "1009       3V1B          3V1B\n",
       "1010       3V1D          3V1D\n",
       "1011       3V1E          3V1E\n",
       "1012       3V1F          3V1F\n",
       "1013       4JW3          4JW3\n",
       "\n",
       "[1014 rows x 2 columns]"
      ]
     },
     "execution_count": 23,
     "metadata": {},
     "output_type": "execute_result"
    }
   ],
   "source": [
    "# Data with removed duplicates is same length\n",
    "data_no_dup"
   ]
  },
  {
   "cell_type": "code",
   "execution_count": 24,
   "id": "894d9624-8b75-468d-ad91-3265c406543f",
   "metadata": {},
   "outputs": [
    {
     "name": "stdout",
     "output_type": "stream",
     "text": [
      "0       False\n",
      "1       False\n",
      "2       False\n",
      "3       False\n",
      "4       False\n",
      "        ...  \n",
      "1009    False\n",
      "1010    False\n",
      "1011    False\n",
      "1012    False\n",
      "1013    False\n",
      "Length: 1014, dtype: bool\n"
     ]
    }
   ],
   "source": [
    "# Double check if any rows are duplicated with another method\n",
    "duplicate_rows = data.duplicated()\n",
    "print(duplicate_rows)"
   ]
  },
  {
   "cell_type": "code",
   "execution_count": 25,
   "id": "61d418e7-de24-481a-8036-f70ee782f58d",
   "metadata": {},
   "outputs": [
    {
     "data": {
      "text/plain": [
       "True"
      ]
     },
     "execution_count": 25,
     "metadata": {},
     "output_type": "execute_result"
    }
   ],
   "source": [
    "# All rows are \"False\" - so not duplicated in the dataset\n",
    "(duplicate_rows == False).all().all()"
   ]
  },
  {
   "cell_type": "code",
   "execution_count": 37,
   "id": "72a9dae6-0ee0-4e97-9d76-88166b1a36fc",
   "metadata": {},
   "outputs": [],
   "source": [
    "org = pd.read_csv('PDB_codes.csv', header=None)\n",
    "org.columns = ['PDB']"
   ]
  },
  {
   "cell_type": "code",
   "execution_count": 38,
   "id": "645261d4-c5de-4a06-be1b-c445ccf87093",
   "metadata": {},
   "outputs": [
    {
     "data": {
      "text/html": [
       "<div>\n",
       "<style scoped>\n",
       "    .dataframe tbody tr th:only-of-type {\n",
       "        vertical-align: middle;\n",
       "    }\n",
       "\n",
       "    .dataframe tbody tr th {\n",
       "        vertical-align: top;\n",
       "    }\n",
       "\n",
       "    .dataframe thead th {\n",
       "        text-align: right;\n",
       "    }\n",
       "</style>\n",
       "<table border=\"1\" class=\"dataframe\">\n",
       "  <thead>\n",
       "    <tr style=\"text-align: right;\">\n",
       "      <th></th>\n",
       "      <th>PDB</th>\n",
       "    </tr>\n",
       "  </thead>\n",
       "  <tbody>\n",
       "    <tr>\n",
       "      <th>0</th>\n",
       "      <td>1AL1</td>\n",
       "    </tr>\n",
       "    <tr>\n",
       "      <th>1</th>\n",
       "      <td>1HCW</td>\n",
       "    </tr>\n",
       "    <tr>\n",
       "      <th>2</th>\n",
       "      <td>1BB1</td>\n",
       "    </tr>\n",
       "    <tr>\n",
       "      <th>3</th>\n",
       "      <td>1BYZ</td>\n",
       "    </tr>\n",
       "    <tr>\n",
       "      <th>4</th>\n",
       "      <td>1COS</td>\n",
       "    </tr>\n",
       "    <tr>\n",
       "      <th>...</th>\n",
       "      <td>...</td>\n",
       "    </tr>\n",
       "    <tr>\n",
       "      <th>852</th>\n",
       "      <td>6S9P</td>\n",
       "    </tr>\n",
       "    <tr>\n",
       "      <th>853</th>\n",
       "      <td>6KOS</td>\n",
       "    </tr>\n",
       "    <tr>\n",
       "      <th>854</th>\n",
       "      <td>6R28</td>\n",
       "    </tr>\n",
       "    <tr>\n",
       "      <th>855</th>\n",
       "      <td>6WRV</td>\n",
       "    </tr>\n",
       "    <tr>\n",
       "      <th>856</th>\n",
       "      <td>6WRX</td>\n",
       "    </tr>\n",
       "  </tbody>\n",
       "</table>\n",
       "<p>857 rows × 1 columns</p>\n",
       "</div>"
      ],
      "text/plain": [
       "      PDB\n",
       "0    1AL1\n",
       "1    1HCW\n",
       "2    1BB1\n",
       "3    1BYZ\n",
       "4    1COS\n",
       "..    ...\n",
       "852  6S9P\n",
       "853  6KOS\n",
       "854  6R28\n",
       "855  6WRV\n",
       "856  6WRX\n",
       "\n",
       "[857 rows x 1 columns]"
      ]
     },
     "execution_count": 38,
     "metadata": {},
     "output_type": "execute_result"
    }
   ],
   "source": [
    "org"
   ]
  },
  {
   "cell_type": "code",
   "execution_count": 39,
   "id": "16c42ec8-264f-4368-a202-4f49c8bfd92b",
   "metadata": {},
   "outputs": [
    {
     "name": "stdout",
     "output_type": "stream",
     "text": [
      "Entries found in data but not in org: ['4R6F', '5KNG', '8V2D', '3PBJ', '5JG9', '8UMP', '5D32', '8EJA', '5LE2', '4W67', '6FP9', '6REK', '6REG', '6F0Q', '6I38', '5D2V', '5J7D', '6REJ', '8V5W', '7TCD', '4P4W', '5AWL', '5MFN', '5D38', '8SW2', '5MFG', '8GD6', '5LW2', '7TBO', '3LTB', '6REN', '4W5L', '4W71', '7QNL', '4A29', '8F6Q', '2LNY', '4J8Y', '6DKM', '8GBI', '4V3R', '4Z08', '2RVD', '3HE5', '6N4N', '5IER', '6NEK', '8UF0', '2LXO', '4W5P', '3O4D', '5DNS', '4JW3', '3V1A', '3TDM', '5IEN', '5TX8', '6C50', '3V1D', '4OXW', '5C39', '6H7I', '4DZV', '2JWU', '2LZE', '2L9A', '4KYZ', '8UI2', '5V64', '2LQ4', '5WRX', '3P46', '5LE9', '5MFL', '4DRT', '6E5C', '5H7C', '4P4X', '3OGF', '5I1Y', '6NAF', '3PG0', '4D49', '5LE3', '8GJ7', '8F6R', '5YXI', '2LHE', '6C2V', '8GD8', '5D2X', '5OOU', '3V1F', '8GK9', '2N7O', '4PQ8', '6DMA', '4LT9', '8G9K', '2MDW', '8GIV', '8CHY', '6G6O', '8GEL', '8BU0', '3LTA', '4D4E', '4LPY', '2N35', '5MFF', '5I1Z', '5LE7', '4UBZ', '8Y33', '3QHT', '8CQQ', '4P4V', '2RU4', '5D2W', '8V61', '4LPW', '6N9H', '4NTP', '3LT9', '6REH', '2N4E', '8TNO', '8CMQ', '3M24', '6MSR', '2MDV', '4KYV', '7F1K', '2N63', '5VJS', '3OL0', '7TAL', '5D2Y', '5LEA', '8UN1', '2JWS', '5DXV', '4QKS', '3O4B', '4R6G', '5MFD', '5EOJ', '5MFI', '2K6R', '8GK2', '5MFO', '6I3B', '5MFJ', '8GB9', '6FPB', '5KNH', '5VJT', '8CP8', '4HQD', '6JCC', '5LEB', '8TL7', '8SY4', '3V1E', '5D2T', '4NW8', '3O49', '4YFO', '4ATZ', '6EGC', '2RU5', '6FPA', '5W9F', '2KOZ', '2N41', '7F1H', '5OD9', '5DN0', '7TBQ', '4NW9', '4R6J', '4RV1', '6DS9', '4V3Q', '4YDW', '2LHG', '8GKB', '4WBV', '2MTT', '3V1C', '4W5M', '8CQP', '4F2V', '8GBH', '4LNY', '4JW2', '5LEE', '2N7N', '2L99', '5LEC', '4KY3', '8SZZ', '4RZP', '8GBO', '2LR2', '6DM9', '5DRA', '5AEI', '6MSQ', '8GL0', '5LE4', '2MBL', '3O4C', '5KKG', '6SA8', '3R2X', '8V5X', '8GLT', '5IEP', '5JHI', '5VNV', '5LE8', '4LPV', '6F0T', '2KJN', '4NEY', '4OW4', '4V3O', '2MLB', '8E55', '8V3B', '8VC8', '4N6T', '4LOA', '5MFK', '6QB2', '4P4Y', '5V65', '5DQA', '3HE4', '6G6N', '8GL4', '7F1J', '4P4Z', '2LHD', '4QKR', '2MI7', '2L96', '5XG5', '6I37', '4R5D', '6G6Q', '4IJB', '7F1L', '3LTC', '4W5Y', '1UW1', '6G6P', '8GBA', '7F1I', '8V59', '8GA6', '4LPT', '5LED', '6DLM', '8GA7', '6I39', '4M6A', '4UBY', '4R5C', '6C2U', '1D7T', '4KYB', '6I3A', '3TDN', '4LPU', '3LTD', '3TQ2', '4ETJ', '2N65', '5JI4', '8UKM', '4PSJ', '3O4A', '1E0M', '4D8H', '4ZV6', '5IEO', '2LHC', '5ORM', '4PWW', '5OOS', '6FCE', '8CIG', '8GBM', '8GK1', '4WBU', '8TNM', '4J7W', '8V56', '3V1B', '2N76', '8E12', '4NEZ', '6ANM', '5OP3', '4NTR', '5D37', '4N6U', '4DZU', '6SA7', '8CKR', '5MFB', '6BZX', '6DLC', '6C9K', '5A0O', '5EIL', '4R58', '5VJU', '7TBN', '8GKX', '2KP0', '5MFH', '3LT8', '5HPN', '5IF6', '5DZB', '5L2H', '2MTU', '8CH0', '8GL5', '6F0S', '5D30', '8UMR', '6ANN', '6EE5', '4DUI', '5MFE', '8FG6', '2KJO', '6G6M', '2MN4', '4TUT', '4LPX', '2N7T', '5D33', '5DI5', '5V63', '5OD1', '8G9J', '5LE6', '5VBT', '6SA6', '3VB8', '6DMP', '8V5Z', '3M22', '5CW9']\n",
      "Entries found in org but not in data: ['6W15', '2O6N', '1T8J', '2N2T', '7DNF', '3R3K', '4PNB', '1QYS', '6YWC', '3TWG', '2KI0', '1LE3', '4Z1R', '6R5Y', '6RX5', '6WRV', '2N1E', '1SNE', '2KLW', '3Q7X', '1ICO', '3P6I', '3WW8', '1M3W', '1J4M', '7N3T', '6WL1', '3U29', '1YMZ', '1OVU', '3TWE', '2N2U', '1G6U', '4E88', '2HYZ', '3OW9', '1L2Y', '4G4M', '3LJM', '1N09', '8T5E', '3T4F', '1QP6', '6W46', '2N6I', '6XXV', '1FMH', '4E0M', '1KD9', '2FO7', '7ZYU', '8AED', '1LE1', '1K09', '2N6H', '1JM0', '1Y47', '3H5F', '8TCF', '6YWD', '2EVQ', '6MK1', '2JRE', '1PYZ', '4G1A', '4E0O', '1MJ0', '3Q7W', '6R5Z', '1N0A', '2A3D', '1JY4', '2JST', '6H5H', '3RFJ', '1LQ7', '1N0R', '1KDD', '6UXS', '1FSV', '1P68', '5YAN', '3WWF', '2QYJ', '6TJ1', '4JBC', '6B85', '1JMB', '6W47', '4L8I', '6X1K', '4E0N', '1U0I', '4PJS', '3R46', '5VMR', '4E0L', '3V45', '3RFS', '4JLR', '5UP5', '3TWF', '1N0C', '6R60', '1NA3', '3V86', '6WKY', '3WW7', '1HCW', '4NDL', '2KDL', '6TMS', '1RH4', '3WWB', '1FME', '1NVO', '4G4L', '3WN8', '4K0C', '7Z7C', '4OYD', '1U2U', '1XOF', '6WL0', '2BH8', '7DNG', '4J4Z', '5TGY', '3AL1', '1K43', '3U1O', '1VRZ', '1JY9', '4JXI', '6M6Z', '5KWD', '3NI3', '1COS', '7DNE', '3CAY', '1ICL', '4G3B', '3P6J', '2JUA', '1PBZ', '3U1V', '3LTM', '4DAC', '2KIK', '5TGW', '5UP1', '3OVJ', '1EC5', '1SNA', '4E0K', '3WW9', '3WWA', '1TJB', '5LO4', '6WRX', '1TGG', '2CW1', '3RA3', '3LTJ', '4GVW', '1VL3', '3Q7Y', '6B87', '1JY6', '5LO2', '4PJQ', '1DJF', '4PJR', '2AVP', '1OVV', '4N9G', '1N0D', '1AL1', '1LT1', '5UOI', '5VID', '8TCG', '5UGK', '4QTR', '3J89', '6IWB', '2KDM', '1NA0', '6HQE', '1PSV', '1S9Z', '6VZX', '1FSD', '5UYO', '1SN9', '2P0X', '1OVR', '2RT4', '1LE0', '3H5G', '1KD8', '5LO3', '1N0Q']\n"
     ]
    }
   ],
   "source": [
    "# Extract unique values from 'Entry ID' column in data and 'PDB' column in org\n",
    "data_entries = set(data['Entry ID'])\n",
    "org_entries = set(org['PDB'])\n",
    "\n",
    "# Entries found in data but not in org\n",
    "entries_in_data_not_org = list(data_entries - org_entries)\n",
    "\n",
    "# Entries found in org but not in data\n",
    "entries_in_org_not_data = list(org_entries - data_entries)\n",
    "\n",
    "print(\"Entries found in data but not in org:\", entries_in_data_not_org)\n",
    "print(\"Entries found in org but not in data:\", entries_in_org_not_data)"
   ]
  },
  {
   "cell_type": "code",
   "execution_count": 43,
   "id": "07fd6547-f7f1-47b9-a1dc-7b84428d43f2",
   "metadata": {},
   "outputs": [],
   "source": [
    "found_in_newer_missing_from_older = pd.DataFrame(entries_in_data_not_org)"
   ]
  },
  {
   "cell_type": "code",
   "execution_count": 44,
   "id": "d779b1e5-ce9b-485f-ba33-ef165e57d5d0",
   "metadata": {},
   "outputs": [],
   "source": [
    "found_in_newer_missing_from_older.to_csv('found_in_newer_missing_from_older.csv')"
   ]
  },
  {
   "cell_type": "code",
   "execution_count": 45,
   "id": "f50e7993-459f-4b96-8887-e9e8784d10da",
   "metadata": {},
   "outputs": [],
   "source": [
    "found_in_older_missing_from_newer = pd.DataFrame(entries_in_org_not_data)"
   ]
  },
  {
   "cell_type": "code",
   "execution_count": 46,
   "id": "295dc0ee-9b53-40a7-a894-8f77b9819882",
   "metadata": {},
   "outputs": [],
   "source": [
    "found_in_older_missing_from_newer.to_csv('found_in_older_missing_from_newer.csv')"
   ]
  },
  {
   "cell_type": "code",
   "execution_count": 47,
   "id": "3b40ec0f-2db2-4d99-8150-4f22a1905d84",
   "metadata": {},
   "outputs": [
    {
     "name": "stdout",
     "output_type": "stream",
     "text": [
      "Entries found in both data and org: ['6NZ3', '8EC9', '6XSS', '8I8Y', '8ECA', '8SJH', '5JQZ', '6NX2', '7UPQ', '5CWI', '6V67', '8CWA', '4YY2', '2ND3', '2MR5', '6VL5', '6MRS', '6Q5K', '5WLM', '4DZN', '6UD9', '7UPO', '5KX2', '6XXZ', '7EQ9', '7UBE', '6FF6', '7B4U', '5WLJ', '6EIZ', '8B15', '7BEY', '6Q5O', '5KB1', '4H7R', '8BFE', '4P6L', '8D05', '6UF7', '6VFL', '7DMF', '6RLI', '8FIT', '7SMJ', '4WN4', '6Y06', '6Q5J', '6CZH', '7LIB', '2ND2', '6VFI', '6SS3', '2XEE', '8BCT', '4H8F', '6Q5H', '8FBJ', '5V2G', '7ZBS', '2NBL', '7BAW', '5CWF', '5U35', '8CUU', '6TJE', '5HS0', '8T62', '7BOA', '7BQS', '6MSP', '5U5A', '8SJI', '7T03', '7S5B', '7NFO', '6TJC', '5CWO', '6OSD', '4DZK', '6TJG', '7SKO', '2L82', '6VL6', '4DB8', '8F54', '6D02', '5U59', '6NXM', '2N75', '4YXY', '8FVT', '6Q5Q', '5EZ9', '5CWH', '6G67', '6V57', '6NYE', '6OVS', '4P6K', '8GAQ', '8DZ8', '2X6P', '7BAU', '6O0I', '6W3W', '5BVB', '8T63', '6E5J', '6UF4', '6NZ1', '5J73', '8BL6', '7BPN', '5ET3', '6Z0L', '5CHB', '6NYI', '7QDI', '2XEN', '2LND', '6S9M', '6YB2', '4H8L', '6C52', '7TMK', '4QFV', '5CWJ', '6TVJ', '6W90', '5IZS', '7NFP', '5TRV', '4UOS', '5J0K', '5KPH', '7T2Y', '6Q25', '6TJD', '6OS8', '7NFM', '4P6J', '6UG6', '2N8D', '6UFA', '6UG2', '7A1T', '8H7C', '7CBC', '4PN9', '8A19', '6XEH', '7BQR', '6REO', '5U5B', '7YH8', '6S9L', '6YAZ', '5J0J', '8AH9', '6UGB', '7LMX', '7NFL', '5CWC', '8CUN', '5KWZ', '5KX1', '8A1A', '7AX0', '6OHH', '6KOS', '7AWY', '7Q1S', '8CUX', '2WQH', '7UWY', '6YB1', '6V58', '7RX5', '8FIH', '7TJL', '6MQU', '6VFJ', '5KBA', '7NFG', '8GJI', '5CWQ', '8D06', '8FBN', '8ETQ', '8DT0', '2MR6', '6S9N', '5UXT', '6QSH', '2KPO', '6TJF', '6MPW', '8J1W', '6TJB', '7UDL', '5V2O', '3R47', '2LV8', '8FJF', '7ARR', '6QSD', '3VJF', '6XY0', '8D09', '6Y7N', '8GJG', '8FBI', '7BQC', '6SRZ', '6MQ2', '6VFH', '2LR0', '5HKN', '5W0J', '6OWD', '7VQW', '6SRY', '4H8G', '6ZV9', '6OV9', '8TXS', '2MTL', '8GJC', '8E0L', '7VQV', '6G6A', '7JH6', '6WVS', '5TS4', '6RLH', '4H8O', '6TT6', '5WLL', '5EHB', '7KUW', '7UBH', '6C4Z', '7JH5', '6MCD', '7TLS', '6EIK', '4ESS', '5CWK', '5K7V', '8SJF', '5K92', '7TML', '7UBC', '7UNI', '6E5K', '7MCC', '7NFJ', '7VQL', '8U5A', '7DNS', '6O0C', '7N1K', '6REL', '7Q1Q', '6G65', '8A09', '6O35', '8FLX', '6W40', '2LTA', '8OYV', '6WMK', '6G6F', '2JGO', '5CWN', '5HRZ', '6X9Z', '8ERW', '8FJE', '4YXX', '6V8E', '7NFH', '4PNA', '4DB9', '6CZJ', '6UDW', '7UE2', '6Q1W', '7TMI', '6V5G', '7BO8', '7LMV', '7NY0', '7UDO', '6UGC', '6YQX', '8OYY', '8F4X', '4DZM', '7BPM', '2JOF', '8B45', '7VTY', '6TJH', '6OVV', '7OT7', '5EON', '7BAV', '6OLN', '5L33', '7UR8', '6G6H', '5E6G', '8HDV', '7B4T', '6VEH', '7RMX', '7Q3K', '7OSU', '4O60', '6ZT1', '7QWA', '7UBD', '7BQE', '6OVU', '6W6X', '8CTO', '8D04', '5J0H', '4PN8', '7UDJ', '8BCS', '7UDK', '4GMR', '7OT8', '2KL8', '5F2Y', '6XI6', '7TM2', '7QWD', '8D9P', '7BQN', '6G6C', '6XH5', '6C51', '6EGP', '4DBA', '4WSL', '2L69', '7DKO', '3R4A', '6TU6', '5EZE', '6UDR', '6Z35', '7Q3J', '6FES', '6XY1', '6G6D', '7UCP', '6Q5N', '7SQ3', '6VG7', '6SS1', '6CFA', '6Q5S', '2LRH', '6REM', '6VGA', '2MBM', '8EOV', '2LCI', '5GAJ', '7DKK', '8CUT', '4GPM', '5TPH', '6Q5R', '7UEK', '1HQJ', '6Z2I', '7BQD', '5J0L', '5CWP', '6EGN', '7SQ5', '7UBI', '7RKC', '6S9P', '4H8M', '5SBJ', '6X8N', '7AWZ', '8GAA', '5CWL', '7M0Q', '6WXO', '7QWC', '7BIM', '8J98', '7XM1', '6G6E', '8D9O', '4TQL', '8CWY', '7BQQ', '6NUK', '8JYT', '7BPL', '8A3G', '6C4X', '6Y07', '8CWS', '7BO9', '8B16', '4ZCN', '4RJV', '7MWQ', '7NFN', '5SBI', '6G6B', '8JKU', '6O3N', '6Y7P', '2JAB', '8J1X', '4HB5', '6Q5P', '7LZ3', '6Q5M', '7NFK', '6UF9', '6B17', '7L33', '8GA9', '6NYK', '6Y7O', '8EK4', '8P4Y', '7BQB', '3R4H', '5HKR', '8A3K', '7SQ4', '6QSE', '5WOC', '6G68', '7Q1R', '6U47', '7P12', '4U3H', '5EZ8', '5CWM', '5U9T', '8CYK', '4YXZ', '6UFU', '7AH0', '5J10', '6EGO', '7TMH', '6UG3', '4IVH', '6WI5', '1KYC', '5KWO', '8FIN', '2MRA', '7MCD', '7BID', '8D07', '4HXT', '6YQY', '7TMA', '6XT4', '6D37', '7VU4', '7BWW', '7RMY', '2XEH', '7UWZ', '5VLI', '8T61', '1BB1', '6EGL', '8E0O', '1IC9', '6WXP', '2N8W', '5KWP', '6VFK', '5CWB', '6I1J', '8E0N', '7BIF', '6D0T', '7UBG', '7AX2', '4PND', '8FWD', '8GL3', '5U9U', '7A8S', '7QDJ', '7C0N', '8A3J', '6G66', '4DZL', '8EOX', '5SBG', '8HDU', '7BAT', '6Q5I', '7UBF', '5EZA', '7BPP', '6W70', '6CZI', '2N8I', '7QWE', '2MUZ', '6E5H', '5J2L', '8A3I', '5J0I', '6UDZ', '8CUS', '4DB6', '7KBQ', '7UR7', '5CWD', '6XR1', '5EZC', '7ARS', '3R48', '4UOT', '2BKG', '5TPJ', '8CUW', '7B4W', '6QSF', '6YB0', '2LN3', '8SJG', '6V5I', '5KVN', '6EGM', '8D08', '5BYO', '5KWX', '6Q5L', '6ANF', '8OYS', '2LSE', '5VTE', '7QDK', '6XWI', '7K3H', '2N4N', '8G8I', '6Q22', '6G6G', '7NFI', '2N3Z', '4YY5', '7BAS', '8JPA', '8JU8', '8F53', '8FJG', '7UNJ', '5CWG', '7BQM', '8OYW', '6UCX', '8EOZ', '7SKN', '7UPP', '6V4Y', '2LVB', '8H7E', '5BVL', '6VGB', '5KB0', '7BIG', '7TME', '6CZG', '6UF8', '6XNS', '8CWZ', '7B4V', '6E5I', '8FIQ', '7UNH', '6SRW', '7QWB', '7UZL', '6OLO', '6V50', '8FBK', '7M5T', '8E1E', '7MWR', '8UGC', '7TLU', '5F53', '8OYX', '7BIE', '5U5C', '1L4X', '6G69', '6QSG', '6XR2', '5WOD', '7LDF', '7UDM', '6YPI', '8E0M', '6TJI', '8BFD', '8FAR', '6Z0M', '5KPE', '6NY8', '6S9O', '3S0R', '5KX0', '8FBO', '6U1S', '8H7D', '2MQ8', '6MRR', '6REI', '7TM1', '4R80', '8DPY', '8GJD', '7Q1T', '5VSG', '7UDN', '6C4Y', '6R28', '5KB2', '7SKP', '8D03', '7OSV', '8CUV', '1BYZ', '6MCT', '7TMJ', '7NFF', '6V5J', '5WLK', '5HRY']\n"
     ]
    }
   ],
   "source": [
    "entries_in_both = list(data_entries.intersection(org_entries))\n",
    "print(\"Entries found in both data and org:\", entries_in_both)"
   ]
  },
  {
   "cell_type": "code",
   "execution_count": 48,
   "id": "e8297259-a9fe-46aa-9e09-a8139a3d02ea",
   "metadata": {},
   "outputs": [],
   "source": [
    "found_in_both = pd.DataFrame(entries_in_both)\n",
    "found_in_both.to_csv('found_in_both.csv')"
   ]
  },
  {
   "cell_type": "code",
   "execution_count": 49,
   "id": "69ef0de0-5749-4982-999d-071c72c8ef81",
   "metadata": {},
   "outputs": [
    {
     "data": {
      "text/plain": [
       "654"
      ]
     },
     "execution_count": 49,
     "metadata": {},
     "output_type": "execute_result"
    }
   ],
   "source": [
    "len(entries_in_both)"
   ]
  },
  {
   "cell_type": "code",
   "execution_count": 50,
   "id": "b33b98ec-6c2c-4d3e-a879-147846fee94c",
   "metadata": {},
   "outputs": [
    {
     "data": {
      "text/plain": [
       "359"
      ]
     },
     "execution_count": 50,
     "metadata": {},
     "output_type": "execute_result"
    }
   ],
   "source": [
    "len(entries_in_data_not_org)"
   ]
  },
  {
   "cell_type": "code",
   "execution_count": 51,
   "id": "1210e788-1199-4f74-9f3f-c2cb776ccec6",
   "metadata": {},
   "outputs": [
    {
     "data": {
      "text/plain": [
       "203"
      ]
     },
     "execution_count": 51,
     "metadata": {},
     "output_type": "execute_result"
    }
   ],
   "source": [
    "len(entries_in_org_not_data)"
   ]
  },
  {
   "cell_type": "code",
   "execution_count": null,
   "id": "748b413d-0b3b-4281-ba38-eca52188a50d",
   "metadata": {},
   "outputs": [],
   "source": []
  },
  {
   "cell_type": "code",
   "execution_count": null,
   "id": "53ae1d1a-8708-44c4-8dd7-ce04948b09a8",
   "metadata": {},
   "outputs": [],
   "source": []
  }
 ],
 "metadata": {
  "kernelspec": {
   "display_name": "Python 3 (ipykernel)",
   "language": "python",
   "name": "python3"
  },
  "language_info": {
   "codemirror_mode": {
    "name": "ipython",
    "version": 3
   },
   "file_extension": ".py",
   "mimetype": "text/x-python",
   "name": "python",
   "nbconvert_exporter": "python",
   "pygments_lexer": "ipython3",
   "version": "3.10.12"
  }
 },
 "nbformat": 4,
 "nbformat_minor": 5
}
